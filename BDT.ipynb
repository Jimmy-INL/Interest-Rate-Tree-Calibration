{
 "cells": [
  {
   "cell_type": "markdown",
   "metadata": {},
   "source": [
    "### INTEREST RATE TREE CALIBRATION (Black-Derman-Toy model)\n",
    "Idea: we need a tree that correctly prices zero-coupon bonds (in\n",
    "which case it correctly prices forwards and swaps) and options.\n",
    "\n",
    "In order to calibrate the BDT Model we require:\n",
    "\n",
    "- the observed bond prices at time 0 \n",
    "- the volatility of bond yields"
   ]
  },
  {
   "cell_type": "markdown",
   "metadata": {},
   "source": [
    "Let us label each node of the tree (n, j)\n",
    "- $n = 0,1,2,...,N$ (time)\n",
    "- $j = 0,1,2,...,n$ (number of heads)\n",
    "\n",
    "Then define $AD(n,j)$ to be the time zero price of Arrow-Debreu security at node $(n, j)$, i.e. AD pays $\\$1$ if the process reaches node $(n,j)$"
   ]
  },
  {
   "cell_type": "code",
   "execution_count": 1,
   "metadata": {},
   "outputs": [],
   "source": [
    "import math\n",
    "import pandas as pd\n",
    "import numpy as np\n",
    "import sympy as sp"
   ]
  },
  {
   "cell_type": "code",
   "execution_count": 2,
   "metadata": {},
   "outputs": [
    {
     "data": {
      "text/html": [
       "<div>\n",
       "<style scoped>\n",
       "    .dataframe tbody tr th:only-of-type {\n",
       "        vertical-align: middle;\n",
       "    }\n",
       "\n",
       "    .dataframe tbody tr th {\n",
       "        vertical-align: top;\n",
       "    }\n",
       "\n",
       "    .dataframe thead th {\n",
       "        text-align: right;\n",
       "    }\n",
       "</style>\n",
       "<table border=\"1\" class=\"dataframe\">\n",
       "  <thead>\n",
       "    <tr style=\"text-align: right;\">\n",
       "      <th></th>\n",
       "      <th>Yield</th>\n",
       "      <th>Bond Price</th>\n",
       "      <th>Yield Vol</th>\n",
       "    </tr>\n",
       "  </thead>\n",
       "  <tbody>\n",
       "    <tr>\n",
       "      <th>1</th>\n",
       "      <td>0.100</td>\n",
       "      <td>0.9091</td>\n",
       "      <td>NaN</td>\n",
       "    </tr>\n",
       "    <tr>\n",
       "      <th>2</th>\n",
       "      <td>0.110</td>\n",
       "      <td>0.8116</td>\n",
       "      <td>0.10</td>\n",
       "    </tr>\n",
       "    <tr>\n",
       "      <th>3</th>\n",
       "      <td>0.120</td>\n",
       "      <td>0.7118</td>\n",
       "      <td>0.15</td>\n",
       "    </tr>\n",
       "    <tr>\n",
       "      <th>4</th>\n",
       "      <td>0.125</td>\n",
       "      <td>0.6243</td>\n",
       "      <td>0.14</td>\n",
       "    </tr>\n",
       "  </tbody>\n",
       "</table>\n",
       "</div>"
      ],
      "text/plain": [
       "   Yield  Bond Price  Yield Vol\n",
       "1  0.100      0.9091        NaN\n",
       "2  0.110      0.8116       0.10\n",
       "3  0.120      0.7118       0.15\n",
       "4  0.125      0.6243       0.14"
      ]
     },
     "execution_count": 2,
     "metadata": {},
     "output_type": "execute_result"
    }
   ],
   "source": [
    "data = pd.DataFrame(index = range(1,5), \n",
    "                    columns = ['Yield', 'Bond Price', 'Yield Vol'],\n",
    "                    data = [[0.1,0.9091, np.NaN], \n",
    "                            [0.11, 0.8116, 0.10], \n",
    "                            [0.12, 0.7118, 0.15], \n",
    "                            [0.125, 0.6243, .14] ])\n",
    "data"
   ]
  },
  {
   "cell_type": "markdown",
   "metadata": {},
   "source": [
    "#### Model parameters"
   ]
  },
  {
   "cell_type": "code",
   "execution_count": 3,
   "metadata": {},
   "outputs": [],
   "source": [
    "N = data.shape[0]\n",
    "p_tilda = 1/2"
   ]
  },
  {
   "cell_type": "markdown",
   "metadata": {},
   "source": [
    "#### Initialize Probability, Rates and Arrow-Debreu matrices\n",
    "$\\tilde{\\mathbb P}$ is assumed to be $\\frac{1}{2}$ in BDT model"
   ]
  },
  {
   "cell_type": "code",
   "execution_count": 4,
   "metadata": {},
   "outputs": [],
   "source": [
    "\"probability matrix\"\n",
    "P = np.full((N+1,N+1), p_tilda) # allows for probabilities different from 1/2\n",
    "\n",
    "\"rates matrix\"\n",
    "R = np.zeros((N, N))\n",
    "R[0,0] = data['Yield'][1]\n",
    "\n",
    "AD = np.zeros((N, N, N, N)) \n",
    "AD[0,0,0,0] = 1\n",
    "\n",
    "TIME_ZERO_BOND_PRICES = []"
   ]
  },
  {
   "cell_type": "markdown",
   "metadata": {},
   "source": [
    "#### Risk Neutral Pricing Formula (one-step back prices)\n",
    "Returns the price of Arrow-Debreu security at node $(n-1,i)$ that pays $1\\$$ at the node $(n,j)$"
   ]
  },
  {
   "cell_type": "code",
   "execution_count": 5,
   "metadata": {},
   "outputs": [],
   "source": [
    "def martingale_pricing(i,n,j):\n",
    "    if i == j - 1:\n",
    "        ad = P[n-1,j-1]/(1+R[n-1,j-1])\n",
    "    elif i == j:\n",
    "        ad = (1-P[n-1,j])/(1+R[n-1,j])\n",
    "    else:\n",
    "        ad = 0\n",
    "    AD[n-1,i,n,j] = ad\n",
    "#     print('A({},{},{},{})'.format(n-1,i,n,j), ad)"
   ]
  },
  {
   "cell_type": "markdown",
   "metadata": {},
   "source": [
    "#### Jamshidian Forward Induction\n",
    "\n",
    "returns price of Arrow-Debreu security at node (n,i) that pays $1\\$$ at node $(m,j)$ (i.e $j$ heads in first $m$ coin tosses)"
   ]
  },
  {
   "cell_type": "code",
   "execution_count": 6,
   "metadata": {},
   "outputs": [],
   "source": [
    "def jfi(n,i,m,j):\n",
    "    if j == 0:\n",
    "        ad = AD[n,i,m-1,j] * (1-P[m-1][j])/(1+R[m-1][j])\n",
    "    elif 0 < j & j < m:\n",
    "        ad = AD[n,i,m-1,j] * (1-P[m-1][j])/(1+R[m-1][j]) + AD[n,i,m-1,j-1] * (P[m-1][j-1])/(1+R[m-1][j-1])\n",
    "    elif j == m:\n",
    "        ad = AD[n,i,m-1,j-1] * (P[m-1][j-1])/(1+R[m-1][j-1])\n",
    "    AD[n,i,m,j] = ad"
   ]
  },
  {
   "cell_type": "markdown",
   "metadata": {},
   "source": [
    "The calculation of the rate $R(n,j+1)$ is based on the assumption that rate volatilities satisfy the following condition:\n",
    "\n",
    "$$\\sigma_r(n) = \\frac{1}{2}\\log\\left( \\frac{R(n,j+1)}{R(n,j)} \\right) \\ \\ \\ or\\ \\ \\ R(n, j+1) = R(n,j) e^{2\\sigma_r(n)} = R(n,j) \\sigma(n)$$\n"
   ]
  },
  {
   "cell_type": "code",
   "execution_count": 7,
   "metadata": {},
   "outputs": [],
   "source": [
    "def rate_vol(x):\n",
    "    return (1/2) * math.log(x)"
   ]
  },
  {
   "cell_type": "markdown",
   "metadata": {},
   "source": [
    "We also assume that the given yield volatilities satisfy:\n",
    "\n",
    "$$ \\sigma_y(n) = \\frac{1}{2}\\log\\left( \\frac{Y(1,1;n)}{Y(1,0;n)} \\right) \\ \\ \\ or\\ \\ \\ Y(1,1;n) = Y(1,0;n) e^{2\\sigma_y(n)} \\ \\ \\ for \\ n = 2,3,...$$\n",
    "\n",
    "We will also create a matrix to store time 1 yields for different maturities.\n"
   ]
  },
  {
   "cell_type": "code",
   "execution_count": 8,
   "metadata": {},
   "outputs": [],
   "source": [
    "yield_tree = np.zeros((2,N)) "
   ]
  },
  {
   "cell_type": "markdown",
   "metadata": {},
   "source": [
    "We now have everything we need to calibrate our model"
   ]
  },
  {
   "cell_type": "code",
   "execution_count": 9,
   "metadata": {},
   "outputs": [
    {
     "name": "stdout",
     "output_type": "stream",
     "text": [
      "Time 1 rate volatility is 0.1\n",
      "Time 2 rate volatility is 0.19478447273332103\n",
      "Time 3 rate volatility is 0.12227923998917059\n",
      "[[0.1        0.         0.         0.        ]\n",
      " [0.10823708 0.13220106 0.         0.        ]\n",
      " [0.09254136 0.1366229  0.20170244 0.        ]\n",
      " [0.09616446 0.12280753 0.15683226 0.20028379]]\n"
     ]
    }
   ],
   "source": [
    "for n in range(1,N): \n",
    "    \n",
    "    '''\n",
    "    We need two solve a system of two equations in two unknowns:\n",
    "        - interest rate at time i with j = 0 \n",
    "        - interest rate volatility at time i\n",
    "        \n",
    "    We can express the unknown variables in two ways:\n",
    "        (1) in terms of time 0 bond yields and time 0 prices of AD securities \n",
    "        (2) in terms of time 1 yields of bonds maturing at time n+1 \n",
    "            and time 1 prices of AD securities\n",
    "    '''\n",
    "\n",
    "    r = sp.Symbol('r')\n",
    "    sigma = sp.Symbol('sigma') \n",
    "    \n",
    "    ##############\n",
    "    # EQUATION 1 #   \n",
    "    ##############\n",
    "    \n",
    "    \"fill a level of time 0 AD tree using JFI\"\n",
    "    for j in range(0,n+1):\n",
    "        jfi(0,0,n,j)\n",
    "        \n",
    "    \"we calibrate to the observed time 0 bond price\"\n",
    "    bond_price = pow(1+data['Yield'][n+1], -(n+1))\n",
    "    TIME_ZERO_BOND_PRICES.append(bond_price)\n",
    "    \n",
    "    if n == 1:\n",
    "        \"at time 1 rates are the same as yields of bonds at time 1 with maturity 2\"\n",
    "        rate_volatility = math.exp(2*data['Yield Vol'][n+1])\n",
    "        B = sum( [AD[0,0,n,j]/(1 + r * pow(rate_volatility, j)) for j in range(0,n+1)])\n",
    "        rate = np.array([sp.re(x) for x in sp.solvers.solve(bond_price - B, r)])\n",
    "        rate = rate[rate>0][0] # set the interest rate to the positive root\n",
    "    else:\n",
    "        \"after time one we have to construct a system to solve for numerically\"\n",
    "        \"we use time 0 prices of AD securities summed over possible coin toss outcomes\"\n",
    "        B = sum([AD[0,0,n,j]/(1 + r * pow(sigma, j)) for j in range(0,n+1)])\n",
    "        \n",
    "    ##############\n",
    "    # EQUATION 2 #   \n",
    "    ##############\n",
    "    \n",
    "    if n > 1: \n",
    "        \"calculate time 1 yields of bonds\"\n",
    "        Y = [] \n",
    "        for i in range(0,2): # yields at (1,0;n+1) and (1,1;n+1) \n",
    "            p = 0 # bond prices\n",
    "            for j in range(0,n+1): # payoffs at terminal nodes: (n,0), (n,1), ... , (n,n)\n",
    "                \"calculate one step AD prices using risk neutral pricing formula\"\n",
    "                martingale_pricing(i,n,j)\n",
    "                if n > 2:\n",
    "                    jfi(1,i,n,j)\n",
    "                p += ( AD[1,i,n,j] )/(1 + r * pow(sigma, j)) #P[1,i,n+1]\n",
    "            Y.append(pow(p,-(1/n)) - 1)\n",
    "\n",
    "    ####################\n",
    "    # SOLVE THE SYSTEM #   \n",
    "    ####################\n",
    "    \n",
    "        solution = sp.nsolve(\n",
    "            [Y[0] * math.exp(2*data['Yield Vol'][n+1]) - Y[1], bond_price - B], \n",
    "            [r,sigma], [0.08, 0.01])\n",
    "        rate = solution[0]\n",
    "        rate_volatility = solution[1]\n",
    "        \n",
    "    \"substitute the values found to calculate actual time 1 yields\"\n",
    "    if n > 1:\n",
    "        for i in range(0,2):\n",
    "            p = 0 # bond prices\n",
    "            for j in range(0,n+1): # payoffs at terminal nodes of time n: (n,0), (n,1), ... , (n,n)\n",
    "                p += ( AD[1,i,n,j] )/(1 + rate * pow(rate_volatility, j)) #P[1,i,n+1]\n",
    "            yield_tree[i,n] = pow(p,-(1/n)) - 1\n",
    "  \n",
    "    print('Time {} rate volatility is {}'.format(n, rate_vol(rate_volatility)))\n",
    "    \n",
    "    R[n][0] = rate # save the rate to the tree\n",
    "    'compute rest of the interests rates applying BDT condition for volatility'\n",
    "    for j in range(1,n+1):\n",
    "        R[n][j] = R[n][0] * pow(rate_volatility, j)\n",
    "print(R) "
   ]
  },
  {
   "cell_type": "markdown",
   "metadata": {},
   "source": [
    "## PART B\n",
    "To verify that the 1-year yield volatility of the 4-year zero coupon bond in the calibrated model is $0.14$ we can check if the volatility condition of BDT model is satifsied. That is, we should have:\n",
    "\n",
    "$$ \\sigma_y(4) = \\frac{1}{2}\\log\\left( \\frac{Y(1,1;4)}{Y(1,0;4)} \\right)$$"
   ]
  },
  {
   "cell_type": "code",
   "execution_count": 10,
   "metadata": {},
   "outputs": [
    {
     "data": {
      "text/plain": [
       "0.14"
      ]
     },
     "execution_count": 10,
     "metadata": {},
     "output_type": "execute_result"
    }
   ],
   "source": [
    "data.loc[4,'Yield Vol']"
   ]
  },
  {
   "cell_type": "code",
   "execution_count": 11,
   "metadata": {},
   "outputs": [
    {
     "data": {
      "text/plain": [
       "0.13999999999999982"
      ]
     },
     "execution_count": 11,
     "metadata": {},
     "output_type": "execute_result"
    }
   ],
   "source": [
    "math.log(yield_tree[1,3]/yield_tree[0,3])/2"
   ]
  },
  {
   "cell_type": "markdown",
   "metadata": {},
   "source": [
    "## PART C"
   ]
  },
  {
   "cell_type": "markdown",
   "metadata": {},
   "source": [
    "Let us verify that the price at time zero of the 12% interest rate cap on $100\n",
    "notional principal 4-year loan is 3.909.\n",
    "\n",
    "Recall that risk-neutral price of an m-period interaste cap is given by:\n",
    "\n",
    "$$ \\operatorname{Cap}_m = \\tilde{\\mathbb E}\\left[ \\sum_{n=1}^m D_n(R_{n-1} - K)^+ \\right] =\n",
    "\\tilde{\\mathbb E}\\left[ D_1(R_{0}-K)^+ + D_2(R_1-K)^+ D_3(R_2-K)^+ + D_4(R_3-K)^+  \\right] \\\\\n",
    "= \\tilde{\\mathbb E}\\left[ D_1(R_{0}-K)^+ \\right] + \\tilde{\\mathbb E}\\left[ D_2(R_1-K)^+ \\right] + \\tilde{\\mathbb E}\\left[ D_3(R_2-K)^+ \\right] + \\tilde{\\mathbb E}\\left[ D_4(R_3-K)^+ \\right] \\\\\n",
    "= \\tilde{\\mathbb E}\\left[ \\frac{(R_{0}-K)^+}{1+R_0} \\right] + \\tilde{\\mathbb E}\\left[ \\frac{(R_{1}-K)^+}{(1+R_0)(1+R_1)} \\right] + \\tilde{\\mathbb E}\\left[ \\frac{(R_{2}-K)^+}{(1+R_0)(1+R_1)(1+R_2)} \\right] + \\tilde{\\mathbb E}\\left[ \\frac{(R_3-K)^+}{(1+R_0)(1+R_1)(1+R_2)(1+R_3)} \\right] \\\\\n",
    "$$"
   ]
  },
  {
   "cell_type": "code",
   "execution_count": 12,
   "metadata": {},
   "outputs": [],
   "source": [
    "\"gets paths from root to a terminal node for a given depth and a starting point\"\n",
    "def getPaths(depth, targetVal, curVal = 0):\n",
    "#     print(depth, targetVal, curVal)\n",
    "    if 0 == depth:\n",
    "        return [[curVal]] if targetVal == curVal else []\n",
    "\n",
    "    leftPaths = getPaths(depth - 1, targetVal, curVal)\n",
    "#     print('pass', depth, targetVal, curVal, leftPaths )\n",
    "    rightPaths = getPaths(depth - 1, targetVal, curVal + 1)\n",
    "    return [[curVal] + path for path in leftPaths + rightPaths]"
   ]
  },
  {
   "cell_type": "code",
   "execution_count": 13,
   "metadata": {},
   "outputs": [
    {
     "data": {
      "text/plain": [
       "0.039091600135354974"
      ]
     },
     "execution_count": 13,
     "metadata": {},
     "output_type": "execute_result"
    }
   ],
   "source": [
    "caplets = []\n",
    "K = 0.12 # target rate\n",
    "\n",
    "for i in range(0,N+1): \n",
    "    \n",
    "    \"\"\"\"\n",
    "    We shall consider all the possible paths leading to a terminal node,\n",
    "    since the interest rates are path dependent (and so could be the probabilities)\n",
    "    \"\"\"\n",
    "    \n",
    "    for leaf in range(0,2**i):\n",
    "        paths = getPaths(i, leaf)\n",
    "        if paths == []:\n",
    "            continue\n",
    "        \n",
    "        E = 0 # time 0 expected price of a caplet paying off at time i \n",
    "        for path in paths: \n",
    "            D = 1\n",
    "            probability = 1\n",
    "            for j in range(0, i):\n",
    "                D *= (1 + R[j, path[j]]) # aggregate discounting factors\n",
    "                probability *= P[j, path[j]] # compute probability of the path\n",
    "            payoff = max(0, R[i-1,path[i-1]] - K) # caplet's payoff for this path\n",
    "            E += pow(D, -1) * payoff * probability # increment expeceted value of the path         \n",
    "        caplets.append(E)\n",
    "sum(caplets)"
   ]
  },
  {
   "cell_type": "markdown",
   "metadata": {},
   "source": [
    "## PART D\n",
    "Forward rate $F_{n,m} = \\frac{B_{n,m}}{B_{n,m+1}} -1 $\n",
    "is the rate, locked in at time n, at which we can invest $1 between time m\n",
    "and m + 1 for one period.\n",
    "\n",
    "We can to verify that $F_{0,3} = \\frac{B_{0,3}}{B_{0,4}} -1 = 0.140134$"
   ]
  },
  {
   "cell_type": "code",
   "execution_count": 14,
   "metadata": {},
   "outputs": [
    {
     "data": {
      "text/plain": [
       "0.14013432761322964"
      ]
     },
     "execution_count": 14,
     "metadata": {},
     "output_type": "execute_result"
    }
   ],
   "source": [
    "TIME_ZERO_BOND_PRICES[1]/TIME_ZERO_BOND_PRICES[2] - 1"
   ]
  }
 ],
 "metadata": {
  "kernelspec": {
   "display_name": "Python 3",
   "language": "python",
   "name": "python3"
  },
  "language_info": {
   "codemirror_mode": {
    "name": "ipython",
    "version": 3
   },
   "file_extension": ".py",
   "mimetype": "text/x-python",
   "name": "python",
   "nbconvert_exporter": "python",
   "pygments_lexer": "ipython3",
   "version": "3.6.3"
  }
 },
 "nbformat": 4,
 "nbformat_minor": 2
}
